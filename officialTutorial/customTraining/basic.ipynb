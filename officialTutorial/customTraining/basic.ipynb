{
 "cells": [
  {
   "cell_type": "code",
   "execution_count": 3,
   "metadata": {},
   "outputs": [
    {
     "name": "stdout",
     "output_type": "stream",
     "text": [
      "tf.Tensor(\n",
      "[[2. 2. 2. 2. 2. 2. 2. 2. 2. 2.]\n",
      " [2. 2. 2. 2. 2. 2. 2. 2. 2. 2.]\n",
      " [2. 2. 2. 2. 2. 2. 2. 2. 2. 2.]\n",
      " [2. 2. 2. 2. 2. 2. 2. 2. 2. 2.]\n",
      " [2. 2. 2. 2. 2. 2. 2. 2. 2. 2.]\n",
      " [2. 2. 2. 2. 2. 2. 2. 2. 2. 2.]\n",
      " [2. 2. 2. 2. 2. 2. 2. 2. 2. 2.]\n",
      " [2. 2. 2. 2. 2. 2. 2. 2. 2. 2.]\n",
      " [2. 2. 2. 2. 2. 2. 2. 2. 2. 2.]\n",
      " [2. 2. 2. 2. 2. 2. 2. 2. 2. 2.]], shape=(10, 10), dtype=float32)\n",
      "WARNING:tensorflow:From /usr/local/lib/python3.6/dist-packages/tensorflow/python/ops/resource_variable_ops.py:642: colocate_with (from tensorflow.python.framework.ops) is deprecated and will be removed in a future version.\n",
      "Instructions for updating:\n",
      "Colocations handled automatically by placer.\n"
     ]
    },
    {
     "data": {
      "text/plain": [
       "<Figure size 640x480 with 1 Axes>"
      ]
     },
     "metadata": {},
     "output_type": "display_data"
    },
    {
     "name": "stdout",
     "output_type": "stream",
     "text": [
      "현재 손실: \n",
      "9.091965\n",
      "에포크  0: W=5.00 b=0.00, 손실=9.09196\n",
      "에포크  1: W=4.60 b=0.40, 손실=6.19048\n",
      "에포크  2: W=4.28 b=0.72, 손실=4.32930\n",
      "에포크  3: W=4.02 b=0.98, 손실=3.13540\n",
      "에포크  4: W=3.82 b=1.19, 손실=2.36951\n",
      "에포크  5: W=3.66 b=1.36, 손실=1.87819\n",
      "에포크  6: W=3.52 b=1.49, 손실=1.56298\n",
      "에포크  7: W=3.42 b=1.60, 손실=1.36076\n",
      "에포크  8: W=3.34 b=1.69, 손실=1.23102\n",
      "에포크  9: W=3.27 b=1.76, 손실=1.14778\n"
     ]
    },
    {
     "data": {
      "text/plain": [
       "<Figure size 640x480 with 1 Axes>"
      ]
     },
     "metadata": {},
     "output_type": "display_data"
    }
   ],
   "source": [
    "from __future__ import absolute_import, division, print_function\n",
    "\n",
    "import tensorflow as tf\n",
    "\n",
    "tf.enable_eager_execution()\n",
    "\n",
    "# 파이썬 구문 사용\n",
    "x = tf.zeros([10, 10])\n",
    "x += 2  # 이것은 x = x + 2와 같으며, x의 초기값을 변경하지 않습니다.\n",
    "print(x)\n",
    "\n",
    "v = tf.Variable(1.0)\n",
    "assert v.numpy() == 1.0\n",
    "\n",
    "# 값을 재배열합니다.\n",
    "v.assign(3.0)\n",
    "assert v.numpy() == 3.0\n",
    "\n",
    "# tf.square()와 같은 텐서플로 연산에 `v`를 사용하고 재할당합니다. \n",
    "v.assign(tf.square(v))\n",
    "assert v.numpy() == 9.0\n",
    "\n",
    "class Model(object):\n",
    "  def __init__(self):\n",
    "    # 변수를 (5.0, 0.0)으로 초기화 합니다.\n",
    "    # 실제로는 임의의 값으로 초기화 되어야합니다.\n",
    "    self.W = tf.Variable(5.0)\n",
    "    self.b = tf.Variable(0.0)\n",
    "    \n",
    "  def __call__(self, x):\n",
    "    return self.W * x + self.b\n",
    "  \n",
    "model = Model()\n",
    "\n",
    "assert model(3.0).numpy() == 15.0\n",
    "\n",
    "def loss(predicted_y, desired_y):\n",
    "  return tf.reduce_mean(tf.square(predicted_y - desired_y))\n",
    "\n",
    "TRUE_W = 3.0\n",
    "TRUE_b = 2.0\n",
    "NUM_EXAMPLES = 1000\n",
    "\n",
    "inputs  = tf.random_normal(shape=[NUM_EXAMPLES])\n",
    "noise   = tf.random_normal(shape=[NUM_EXAMPLES])\n",
    "outputs = inputs * TRUE_W + TRUE_b + noise\n",
    "\n",
    "import matplotlib.pyplot as plt\n",
    "\n",
    "plt.scatter(inputs, outputs, c='b')\n",
    "plt.scatter(inputs, model(inputs), c='r')\n",
    "plt.show()\n",
    "\n",
    "print('현재 손실: '),\n",
    "print(loss(model(inputs), outputs).numpy())\n",
    "\n",
    "def train(model, inputs, outputs, learning_rate):\n",
    "  with tf.GradientTape() as t:\n",
    "    current_loss = loss(model(inputs), outputs)\n",
    "  dW, db = t.gradient(current_loss, [model.W, model.b])\n",
    "  model.W.assign_sub(learning_rate * dW)\n",
    "  model.b.assign_sub(learning_rate * db)\n",
    "\n",
    "model = Model()\n",
    "\n",
    "# 도식화를 위해 W값과 b값의 변화를 저장합니다.\n",
    "Ws, bs = [], []\n",
    "epochs = range(10)\n",
    "for epoch in epochs:\n",
    "  Ws.append(model.W.numpy())\n",
    "  bs.append(model.b.numpy())\n",
    "  current_loss = loss(model(inputs), outputs)\n",
    "\n",
    "  train(model, inputs, outputs, learning_rate=0.1)\n",
    "  print('에포크 %2d: W=%1.2f b=%1.2f, 손실=%2.5f' %\n",
    "        (epoch, Ws[-1], bs[-1], current_loss))\n",
    "\n",
    "# 저장된 값들을 도식화합니다.\n",
    "plt.plot(epochs, Ws, 'r',\n",
    "         epochs, bs, 'b')\n",
    "plt.plot([TRUE_W] * len(epochs), 'r--',\n",
    "         [TRUE_b] * len(epochs), 'b--')\n",
    "plt.legend(['W', 'b', 'true W', 'true_b'])\n",
    "plt.show()\n",
    "\n"
   ]
  },
  {
   "cell_type": "code",
   "execution_count": null,
   "metadata": {},
   "outputs": [],
   "source": []
  }
 ],
 "metadata": {
  "kernelspec": {
   "display_name": "Python 3",
   "language": "python",
   "name": "python3"
  },
  "language_info": {
   "codemirror_mode": {
    "name": "ipython",
    "version": 3
   },
   "file_extension": ".py",
   "mimetype": "text/x-python",
   "name": "python",
   "nbconvert_exporter": "python",
   "pygments_lexer": "ipython3",
   "version": "3.6.8"
  }
 },
 "nbformat": 4,
 "nbformat_minor": 4
}
